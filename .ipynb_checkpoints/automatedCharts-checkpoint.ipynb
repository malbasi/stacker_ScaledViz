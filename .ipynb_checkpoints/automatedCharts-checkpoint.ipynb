{
 "cells": [
  {
   "cell_type": "code",
   "execution_count": 2,
   "metadata": {},
   "outputs": [],
   "source": [
    "from matplotlib import pyplot as plt\n",
    "from pylab import figure, axes, pie, title, show\n",
    "from cycler import cycler\n",
    "from matplotlib.dates import DateFormatter\n",
    "import pandas as pd"
   ]
  },
  {
   "cell_type": "code",
   "execution_count": 14,
   "metadata": {},
   "outputs": [],
   "source": [
    "# This is the style sheet for the charts \n",
    "# documentation here https://matplotlib.org/stable/tutorials/introductory/customizing.html\n",
    "plt.rcdefaults() # reset the rc params to clear any previous changes \n",
    "\n",
    "plt.rcParams.update({\n",
    "    ### FONTS\n",
    "    'pdf.fonttype': 42, # don't change\n",
    "    'ps.fonttype': 42, # don't change\n",
    "    'font.family': 'Myriad', # choose font family for axes, legend, title and any other text\n",
    "    'font.style' : 'normal', # choose font style for axes, legend, title and any other text\n",
    "    'font.weight' : '100', # choose font weight for axes, legend, title and any other text\n",
    "    'font.stretch' : 'condensed', #choose font style\n",
    "    \n",
    "    ### SETUP\n",
    "    'figure.facecolor'    : '#ffffff', # color outside of chart\n",
    "    'patch.antialiased'   : True, #applies anti-aliasing (smoothing) to any shapes in the chart\n",
    "    \n",
    "    ### LINES\n",
    "    'lines.linewidth'     : 2.0, # default line width in points\n",
    "    'lines.solid_capstyle': 'round', # changes whether the end of the line is \"butt,\" \"round,\" or \"projecting\"\n",
    "\n",
    "    ### FIELD\n",
    "    'axes.titlesize'      : 18, # Changes font size for the chart title\n",
    "    'axes.titleweight'    : \"bold\", # font weight for chart title\n",
    "    'axes.titlepad'       : 15, # padding around chart title \n",
    "    'axes.labelsize'      : 8, # Changes font size for the chart labels\n",
    "    'axes.labelcolor'     : '#383838', # font color of axes labels\n",
    "    'axes.facecolor'      : '#ffffff', # background color for the chart \n",
    "    'axes.edgecolor'      : '#ffffff', # color of stroke outside on outside of chart\n",
    "    'axes.prop_cycle'    : cycler('color', ['#322DA1', '#141739', '#211D5E', '#262478', '#615AED', '#BCB9FF']), # colors to choose from for chart elements \n",
    "\n",
    "    ### GRID\n",
    "    'axes.grid'           : True, # creates a grid on the field\n",
    "    'axes.grid.axis'      : 'x',\n",
    "    'grid.color'          : '#9e9e9e',    # grid color\n",
    "    'grid.linestyle'      : '-',         # grid line styling : = dashed\n",
    "    'grid.linewidth'      : 0.5,        # grid size in points \n",
    "\n",
    "    ### TICKS\n",
    "    'xtick.major.size'    : 0, # sets the size in points of the xticks. Set to 0 for no ticks\n",
    "    'xtick.color'         : '#383838', # sets the colors for the tick\n",
    "    'xtick.direction'     : 'out', # determines whether the tick goes 'in' or 'out'\n",
    "\n",
    "    'ytick.major.size'    : 0, # sets the size in points of the yticks. Set to 0 for no ticks\n",
    "    'ytick.color'         : '#383838', # sets the colors for the tick\n",
    "    'ytick.direction'     : 'out', # determines whether the tick goes 'in' or 'out'\n",
    "    \n",
    "})\n"
   ]
  },
  {
   "cell_type": "code",
   "execution_count": 15,
   "metadata": {},
   "outputs": [],
   "source": [
    "chartData = pd.read_csv('data/zillowHousePrices2.csv')\n",
    "chartFolder = 'charts'\n",
    "\n",
    "endMonth = '2021-11-30'"
   ]
  },
  {
   "cell_type": "code",
   "execution_count": 20,
   "metadata": {},
   "outputs": [
    {
     "name": "stderr",
     "output_type": "stream",
     "text": [
      "<ipython-input-20-ffc6cc2572cd>:26: RuntimeWarning: More than 20 figures have been opened. Figures created through the pyplot interface (`matplotlib.pyplot.figure`) are retained until explicitly closed and may consume too much memory. (To control this warning, see the rcParam `figure.max_open_warning`).\n",
      "  fig, ax = plt.subplots(figsize=(9, 6)) # create an axes in the figure and set their size\n"
     ]
    },
    {
     "data": {
      "text/plain": [
       "<Figure size 900x600 with 0 Axes>"
      ]
     },
     "metadata": {},
     "output_type": "display_data"
    },
    {
     "data": {
      "text/plain": [
       "<Figure size 900x600 with 0 Axes>"
      ]
     },
     "metadata": {},
     "output_type": "display_data"
    },
    {
     "data": {
      "text/plain": [
       "<Figure size 900x600 with 0 Axes>"
      ]
     },
     "metadata": {},
     "output_type": "display_data"
    },
    {
     "data": {
      "text/plain": [
       "<Figure size 900x600 with 0 Axes>"
      ]
     },
     "metadata": {},
     "output_type": "display_data"
    },
    {
     "data": {
      "text/plain": [
       "<Figure size 900x600 with 0 Axes>"
      ]
     },
     "metadata": {},
     "output_type": "display_data"
    },
    {
     "data": {
      "text/plain": [
       "<Figure size 900x600 with 0 Axes>"
      ]
     },
     "metadata": {},
     "output_type": "display_data"
    },
    {
     "data": {
      "text/plain": [
       "<Figure size 900x600 with 0 Axes>"
      ]
     },
     "metadata": {},
     "output_type": "display_data"
    },
    {
     "data": {
      "text/plain": [
       "<Figure size 900x600 with 0 Axes>"
      ]
     },
     "metadata": {},
     "output_type": "display_data"
    },
    {
     "data": {
      "text/plain": [
       "<Figure size 900x600 with 0 Axes>"
      ]
     },
     "metadata": {},
     "output_type": "display_data"
    },
    {
     "data": {
      "text/plain": [
       "<Figure size 900x600 with 0 Axes>"
      ]
     },
     "metadata": {},
     "output_type": "display_data"
    },
    {
     "data": {
      "text/plain": [
       "<Figure size 900x600 with 0 Axes>"
      ]
     },
     "metadata": {},
     "output_type": "display_data"
    },
    {
     "data": {
      "text/plain": [
       "<Figure size 900x600 with 0 Axes>"
      ]
     },
     "metadata": {},
     "output_type": "display_data"
    },
    {
     "data": {
      "text/plain": [
       "<Figure size 900x600 with 0 Axes>"
      ]
     },
     "metadata": {},
     "output_type": "display_data"
    },
    {
     "data": {
      "text/plain": [
       "<Figure size 900x600 with 0 Axes>"
      ]
     },
     "metadata": {},
     "output_type": "display_data"
    },
    {
     "data": {
      "text/plain": [
       "<Figure size 900x600 with 0 Axes>"
      ]
     },
     "metadata": {},
     "output_type": "display_data"
    },
    {
     "data": {
      "text/plain": [
       "<Figure size 900x600 with 0 Axes>"
      ]
     },
     "metadata": {},
     "output_type": "display_data"
    },
    {
     "data": {
      "text/plain": [
       "<Figure size 900x600 with 0 Axes>"
      ]
     },
     "metadata": {},
     "output_type": "display_data"
    },
    {
     "data": {
      "text/plain": [
       "<Figure size 900x600 with 0 Axes>"
      ]
     },
     "metadata": {},
     "output_type": "display_data"
    },
    {
     "data": {
      "text/plain": [
       "<Figure size 900x600 with 0 Axes>"
      ]
     },
     "metadata": {},
     "output_type": "display_data"
    },
    {
     "data": {
      "text/plain": [
       "<Figure size 900x600 with 0 Axes>"
      ]
     },
     "metadata": {},
     "output_type": "display_data"
    },
    {
     "data": {
      "text/plain": [
       "<Figure size 900x600 with 0 Axes>"
      ]
     },
     "metadata": {},
     "output_type": "display_data"
    },
    {
     "data": {
      "text/plain": [
       "<Figure size 900x600 with 0 Axes>"
      ]
     },
     "metadata": {},
     "output_type": "display_data"
    },
    {
     "data": {
      "text/plain": [
       "<Figure size 900x600 with 0 Axes>"
      ]
     },
     "metadata": {},
     "output_type": "display_data"
    },
    {
     "data": {
      "text/plain": [
       "<Figure size 900x600 with 0 Axes>"
      ]
     },
     "metadata": {},
     "output_type": "display_data"
    },
    {
     "data": {
      "text/plain": [
       "<Figure size 900x600 with 0 Axes>"
      ]
     },
     "metadata": {},
     "output_type": "display_data"
    },
    {
     "data": {
      "text/plain": [
       "<Figure size 900x600 with 0 Axes>"
      ]
     },
     "metadata": {},
     "output_type": "display_data"
    },
    {
     "data": {
      "text/plain": [
       "<Figure size 900x600 with 0 Axes>"
      ]
     },
     "metadata": {},
     "output_type": "display_data"
    },
    {
     "data": {
      "text/plain": [
       "<Figure size 900x600 with 0 Axes>"
      ]
     },
     "metadata": {},
     "output_type": "display_data"
    },
    {
     "data": {
      "text/plain": [
       "<Figure size 900x600 with 0 Axes>"
      ]
     },
     "metadata": {},
     "output_type": "display_data"
    },
    {
     "data": {
      "text/plain": [
       "<Figure size 900x600 with 0 Axes>"
      ]
     },
     "metadata": {},
     "output_type": "display_data"
    }
   ],
   "source": [
    "for index, row in chartData.iterrows():\n",
    "    city = row['RegionName']\n",
    "\n",
    "    data = []\n",
    "    dataLabels = []\n",
    "    yearCount = 0\n",
    "    endYear = int(endMonth[0:4])\n",
    "    \n",
    "    chartTitle = \"Home Values in \" + row['RegionName'] # Set the title of the chart \n",
    "\n",
    "    while yearCount < 5:\n",
    "        dataPointYear = str(endYear) + '-' + endMonth.split('-')[1] + '-' + endMonth.split('-')[2]\n",
    "        dataLabels.insert(0, dataPointYear)\n",
    "        data.insert(0, row[dataPointYear])\n",
    "        yearCount = yearCount + 1\n",
    "        endYear = endYear - 1\n",
    "    # clean up data types     \n",
    "    dataLabels = pd.to_datetime(dataLabels, format='%Y-%m-%d') # convert our dataLabels to datetime format for easier manipulation \n",
    "    pointLabel = \"${:,.0f}\". format(annotationYLocation) # format the yaxis data for display\n",
    "    \n",
    "    # variables for display\n",
    "    annotationXLocation = max(dataLabels) # Get the location of the last data point on the x axis\n",
    "    annotationYLocation = data[-1] # Get the location of the last data point on the y axis=\n",
    "    minTick = round(min(data),-4) # Create the bottom tick on the y axis\n",
    "    maxTick = round(max(data),-4) # Create the top tick on the y axis\n",
    "    midTick = ((maxTick-minTick)/2)+minTick # Create the middle tick on the y axis\n",
    "        \n",
    "    #  set up the figure and axes and plot\n",
    "    fig, ax = plt.subplots(figsize=(9, 6)) # create an axes in the figure and set their size\n",
    "    ax.plot(dataLabels, data) # Plot the data on the ax \n",
    "    \n",
    "    # format the axes\n",
    "    ax.yaxis.set_major_formatter('${x:,.0f}') # Format the yaxis so with a leading $ and NO decimal point (note, this code is magic and I don't know how it works)\n",
    "    date_form = DateFormatter(\"%Y\") # set the format for the dates to display in the xaxis\n",
    "    ax.xaxis.set_major_formatter(date_form) # tell the xaxis to display the date as set in date_form\n",
    "\n",
    "    ax.xaxis.set_major_locator(plt.MaxNLocator(5)) # only display five ticks in the x axis \n",
    "    ax.yaxis.set_ticks([minTick, midTick, maxTick]) # display three ticks on the y axis\n",
    "\n",
    "    # Add titles, labels and attribution\n",
    "    plt.title(chartTitle) # place chart title\n",
    "    plt.annotate(text = pointLabel, xy = (annotationXLocation, annotationYLocation), textcoords='offset points', xytext = (1,1), color='#322DA1', weight = \"bold\") # annotate the final data point\n",
    "    plt.annotate('Source: Zillow', (0,0), (-10, -30), xycoords='axes fraction', textcoords='offset points', va='top') # add annotation for data source    \n",
    "\n",
    "    plt.savefig(chartFolder + '/' + city + '.jpg') # save the figure\n",
    "    plt.clf() # clear the figure for the next run"
   ]
  },
  {
   "cell_type": "code",
   "execution_count": null,
   "metadata": {},
   "outputs": [],
   "source": []
  }
 ],
 "metadata": {
  "kernelspec": {
   "display_name": "Python 3",
   "language": "python",
   "name": "python3"
  },
  "language_info": {
   "codemirror_mode": {
    "name": "ipython",
    "version": 3
   },
   "file_extension": ".py",
   "mimetype": "text/x-python",
   "name": "python",
   "nbconvert_exporter": "python",
   "pygments_lexer": "ipython3",
   "version": "3.8.5"
  }
 },
 "nbformat": 4,
 "nbformat_minor": 5
}
