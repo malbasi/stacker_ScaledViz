{
 "cells": [
  {
   "cell_type": "code",
   "execution_count": 2,
   "metadata": {},
   "outputs": [
    {
     "data": {
      "text/plain": [
       "<Figure size 432x288 with 0 Axes>"
      ]
     },
     "metadata": {},
     "output_type": "display_data"
    }
   ],
   "source": [
    "from matplotlib import pyplot as plt\n",
    "from pylab import figure, axes, pie, title, show\n",
    "import pandas as pd\n",
    "\n",
    "chartData = pd.read_csv('data/zillowHousePrices2.csv')\n",
    "chartFolder = 'charts'\n",
    "\n",
    "endMonth = '2021-11-30'\n",
    "\n",
    "for index, row in chartData.iterrows():\n",
    "    city = row['RegionName']\n",
    "\n",
    "    data = []\n",
    "    dataLabels = []\n",
    "    yearCount = 0\n",
    "    endYear = int(endMonth[0:4])\n",
    "\n",
    "    while yearCount < 5:\n",
    "        dataPointYear = str(endYear) + '-' + endMonth.split('-')[1] + '-' + endMonth.split('-')[2]\n",
    "        dataLabels.insert(0, dataPointYear)\n",
    "        data.insert(0, row[dataPointYear])\n",
    "        yearCount = yearCount + 1\n",
    "        endYear = endYear - 1\n",
    "\n",
    "#     data = [row['2017-11-30'],row['2018-11-30'],row['2019-11-30'],row['2020-11-30'],row['2021-11-30']]\n",
    "#     plt.bar([1,2,3,4,5], data)\n",
    "\n",
    "    plt.bar(dataLabels, data)\n",
    "    plt.savefig(chartFolder + '/' + city + '.jpg')\n",
    "    plt.clf()\n"
   ]
  },
  {
   "cell_type": "code",
   "execution_count": null,
   "metadata": {},
   "outputs": [],
   "source": []
  }
 ],
 "metadata": {
  "kernelspec": {
   "display_name": "Python 3",
   "language": "python",
   "name": "python3"
  },
  "language_info": {
   "codemirror_mode": {
    "name": "ipython",
    "version": 3
   },
   "file_extension": ".py",
   "mimetype": "text/x-python",
   "name": "python",
   "nbconvert_exporter": "python",
   "pygments_lexer": "ipython3",
   "version": "3.8.5"
  }
 },
 "nbformat": 4,
 "nbformat_minor": 5
}
